{
 "cells": [
  {
   "cell_type": "code",
   "execution_count": 1,
   "id": "00214cfc",
   "metadata": {},
   "outputs": [],
   "source": [
    "import numpy as np\n",
    "import pandas as pd\n",
    "\n",
    "from scipy import stats\n",
    "import matplotlib.pyplot as plt\n",
    "import seaborn as sns\n",
    "\n",
    "from tqdm.notebook import tqdm\n",
    "from IPython.display import display"
   ]
  },
  {
   "cell_type": "markdown",
   "id": "b58adfb9",
   "metadata": {},
   "source": [
    "Сначала напишу калькулятор для левосторонней проверки, потом добавлю отсальные\n",
    "\n",
    "Исходные данные:\n",
    "- среднее распределения p1 (control)\n",
    "- MDE\n",
    "- $\\alpha$ и $\\beta$\n",
    "- $n$\n",
    "\n",
    "Дополнительно написать код для формирования таблицы взаимосвязи $n$ от $\\alpha$ и $\\beta$"
   ]
  },
  {
   "cell_type": "code",
   "execution_count": 3,
   "id": "ad8b88fe",
   "metadata": {},
   "outputs": [],
   "source": [
    "def get_n(p_c, mde, alpha, beta, orientation, plot=True):\n",
    "    \"\"\"\n",
    "    Функция нахождения требуемого количества наблюдений исходя\n",
    "    из извесных mde, alpha, beta, p_c (среднее исходного распределения)\n",
    "    \"\"\"\n",
    "    p_t = p_c + mde # ожидаемое среднее распределения после внедрения фичи (treatment)\n",
    "    \n",
    "    # дисперсия распределений\n",
    "    sigma_c = p_c * (1 - p_c)\n",
    "    sigma_t = p_t * (1 - p_t)    \n",
    "    \n",
    "    # оценка q - параметра для оптимальной разбивки по группам (для расчета количества наблюдений в каждой группе)\n",
    "    # формула выведена через минимизацию дисперсии случайной величины p1 - p2\n",
    "    q = np.sqrt(sigma_c) / (np.sqrt(sigma_c) + np.sqrt(sigma_t))\n",
    "    \n",
    "    one_sided_orientation = orientation in ['left', 'right']\n",
    "    \n",
    "    if one_sided_orientation:\n",
    "        z_alpha = stats.norm.ppf(1 - alpha) # кванитль для Z_1-alpha\n",
    "        z_beta = stats.norm.ppf(1 - beta) # кванитль для Z_1-beta   \n",
    "    else:\n",
    "        z_alpha = stats.norm.ppf(1 - alpha/2) # кванитль для Z_1-alpha\n",
    "        z_beta = stats.norm.ppf(1 - beta/2) # кванитль для Z_1-beta          \n",
    "    \n",
    "    # оценка количества наблюдений для проведения эксперимента\n",
    "    n = round(((z_alpha + z_beta) / mde) **2 * (sigma_c/q + sigma_t/(1-q)))\n",
    "    \n",
    "    # требуемое количество наблюдений в control группе\n",
    "    n_c = round(q * n)\n",
    "    \n",
    "    # требуемое количество наблюдений в treatment группе\n",
    "    n_t = round((1- q) * n)\n",
    "    \n",
    "    \n",
    "    # строим графики\n",
    "    if plot:\n",
    "        x_c = np.linspace(stats.norm.ppf(0.01), \n",
    "                        stats.norm.ppf(0.99),\n",
    "                        100)\n",
    "        y_c = stats.norm.pdf(x_c)\n",
    "        \n",
    "        fig, ax = plt.subplots(1, 1)\n",
    "        fig.set_size_inches(10, 5)\n",
    "        ax.plot(x_c, y_c, label='norm_distirbution')\n",
    "        \n",
    "        if one_sided_orientation:\n",
    "            plt.axvline(z_alpha, color='red', linestyle='--', label='z_alpha')\n",
    "            plt.axvline(z_beta, color='green', linestyle='--', label='z_beta')\n",
    "            \n",
    "            for z in [z_alpha, z_beta]:\n",
    "                xq = np.linspace(z, stats.norm.ppf(0.99), 100)\n",
    "                yq = stats.norm.pdf(xq)\n",
    "\n",
    "                if z == z_alpha:\n",
    "                    color = 'red'\n",
    "                else:\n",
    "                    color = 'green'\n",
    "                        \n",
    "                plt.fill_between(xq, 0, yq, color=color, alpha=0.3)\n",
    "        else:\n",
    "            plt.axvline(z_alpha, color='red', linestyle='--', label='z_alpha')\n",
    "            plt.axvline(-z_alpha, color='red', linestyle='--', label='-z_alpha')\n",
    "            plt.axvline(z_beta, color='green', linestyle='--', label='z_beta')\n",
    "            plt.axvline(-z_beta, color='green', linestyle='--', label='-z_beta')\n",
    "            \n",
    "            for z in [z_alpha, z_beta]:\n",
    "                \n",
    "                if z == z_alpha:\n",
    "                    color = 'red'\n",
    "                else:\n",
    "                    color = 'green'\n",
    "                \n",
    "                for sign in [-1, 1]:\n",
    "                    if sign == -1:\n",
    "                        xq = np.linspace(stats.norm.ppf(0.01), z * sign, 100)\n",
    "                        yq = stats.norm.pdf(xq)\n",
    "                    else:\n",
    "                        xq = np.linspace(z * sign, stats.norm.ppf(0.99), 100)\n",
    "                        yq = stats.norm.pdf(xq)                        \n",
    "                    \n",
    "                    plt.fill_between(xq, 0, yq, color=color, alpha=0.3)\n",
    "            \n",
    "        plt.title('get_n | Probability density function')\n",
    "        plt.xlabel('$x$')\n",
    "        plt.ylabel('$f(x)$')\n",
    "        plt.legend()\n",
    "        plt.show()        \n",
    "    \n",
    "    return n_c, n_t"
   ]
  },
  {
   "cell_type": "code",
   "execution_count": 3,
   "id": "6452ee48",
   "metadata": {},
   "outputs": [],
   "source": [
    "def generating_bern_data(p, mde, alpha, beta, plot=True):\n",
    "    \"\"\"\n",
    "    Функция для генерации выборок при заданных параметрах распределении\n",
    "    для последующей демонстрации влияния beta на размер выборки\n",
    "    \"\"\"\n",
    "    \n",
    "    # считаем размеры выборок исходя из парометров теста\n",
    "    na, nb = get_n(p, mde, alpha, beta, plot=False)\n",
    "    \n",
    "    # генерируем выборки\n",
    "    a = np.random.binomial(1, p, na)\n",
    "    b = np.random.binomial(1, p+mde, nb)\n",
    "    \n",
    "    # считаем средние и дисперсии выборок\n",
    "    pa = a.sum() / len(a)\n",
    "    pb = b.sum() / len(b)\n",
    "    sigm_pa = pa * (1 - pa) / na\n",
    "    sigm_pb = pb * (1 - pb) / nb\n",
    "    \n",
    "    # создаем распределения средних\n",
    "    norm_a = stats.norm(pa, np.sqrt(sigm_pa))\n",
    "    norm_b = stats.norm(pb, np.sqrt(sigm_pb))\n",
    "    \n",
    "    # квантили для alpha и beta\n",
    "    z_alpha_a = norm_a.ppf(1 - alpha)\n",
    "    z_beta_b = norm_b.ppf(beta)\n",
    "    \n",
    "    if plot:\n",
    "        x_a = np.linspace(norm_a.ppf(0.0001), norm_a.ppf(0.9999), 100)\n",
    "        y_a = norm_a.pdf(x_a)\n",
    "\n",
    "        x_b = np.linspace(norm_b.ppf(0.0001), norm_b.ppf(0.9999), 100)\n",
    "        y_b = norm_b.pdf(x_b)\n",
    "\n",
    "\n",
    "        fig, ax = plt.subplots(1, 1)\n",
    "        fig.set_size_inches(10, 5)\n",
    "        ax.plot(x_a, y_a, label='norm_distirbution_a')\n",
    "        ax.plot(x_b, y_b, label='norm_distirbution_b')\n",
    "        plt.axvline(z_alpha_a, color='red', linestyle='--', label='z_alpha_a')\n",
    "        plt.axvline(z_beta_b, color='green', linestyle='--', label='z_beta_b')\n",
    "        plt.title('Probability density function of normalized sample mean')\n",
    "        plt.xlabel('$x$')\n",
    "        plt.ylabel('$f(x)$')\n",
    "        plt.legend()\n",
    "        plt.show()\n",
    "        \n",
    "    return a, b"
   ]
  },
  {
   "cell_type": "code",
   "execution_count": 4,
   "id": "db6fe736",
   "metadata": {},
   "outputs": [],
   "source": [
    "def bern_z_test(c, t, alpha, orientation, plot=True):\n",
    "    \"\"\"\n",
    "        Функция для проверки нулевой гипотезы о разнице средних для биномиального распределения.\n",
    "    \"\"\"\n",
    "    c_mean_hat = c.sum() / len(c)\n",
    "    c_mean_hat_sigma = (c_mean_hat * (1-c_mean_hat)) / len(c)\n",
    "    \n",
    "    t_mean_hat = t.sum() / len(t)\n",
    "    t_mean_hat_sigma = (t_mean_hat * (1-t_mean_hat)) / len(t)\n",
    "    \n",
    "    # путь через z-критерий\n",
    "    # нормирование случайной величины разницы средних\n",
    "    z = (t_mean_hat - c_mean_hat) / np.sqrt(t_mean_hat_sigma + c_mean_hat_sigma)\n",
    "    \n",
    "    \n",
    "    if orientation == 'right':\n",
    "        z_alpha = stats.norm.ppf(1-alpha) \n",
    "        p_value = 1 - stats.norm.cdf(z)\n",
    "        \n",
    "    elif orientation == 'left':\n",
    "        z_alpha = stats.norm.ppf(alpha)\n",
    "        p_value = stats.norm.cdf(z)\n",
    "    \n",
    "    elif orientation == 'twosided':\n",
    "        left, right = stats.norm.interval(1 - alpha) # функция сама считает alpha/2\n",
    "        if z <= 0:\n",
    "            p_value = stats.norm.cdf(z)\n",
    "        else:\n",
    "            p_value = 1-stats.norm.cdf(z)\n",
    "        \n",
    "    else:\n",
    "        print('Unknown orientation')\n",
    "        return\n",
    "    \n",
    "    if plot:\n",
    "        x = np.linspace(stats.norm.ppf(0.001), stats.norm.ppf(0.999), 100)\n",
    "        pdf = stats.norm.pdf(x)\n",
    "\n",
    "        fig, ax = plt.subplots(1, 1)\n",
    "        fig.set_size_inches(10, 5)\n",
    "        ax.plot(x, pdf, label='norm_distirbution')\n",
    "        plt.axvline(z, color='blue', linestyle='-.', label = 'z')\n",
    "        \n",
    "        if orientation in ['left', 'right']:\n",
    "            if orientation == 'left':\n",
    "                label = f'{alpha} quantile'\n",
    "            else:\n",
    "                label = f'{1 - alpha} quantile'\n",
    "            plt.axvline(z_alpha, color='red', linestyle='dashed', label=label)\n",
    "            \n",
    "        else:\n",
    "            plt.axvline(left, color='red', linestyle='-.', label = f'{alpha / 2} quantile')\n",
    "            plt.axvline(right, color='red', linestyle='-.', label = f'{1 - alpha / 2} quantile')\n",
    "            \n",
    "        if orientation == 'left' or (orientation == 'twosided' and z <= 0):\n",
    "            if stats.norm.ppf(0.001) <= z:\n",
    "                xq = np.linspace(stats.norm.ppf(0.001), z, 100)\n",
    "            else:\n",
    "                xq = np.linspace(z, z, 1)\n",
    "        else:\n",
    "            if stats.norm.ppf(0.999) >= z:\n",
    "                xq = np.linspace(z, stats.norm.ppf(0.999), 100)\n",
    "            else:\n",
    "                xq = np.linspace(z, z, 1)              \n",
    "\n",
    "        yq = stats.norm.pdf(xq) \n",
    "        plt.fill_between(xq, 0, yq, color='blue', alpha=0.3)\n",
    "        \n",
    "        y_max = plt.ylim()[1]\n",
    "        text_margin = 0.05\n",
    "        \n",
    "        plt.text(z + text_margin, 0.8*y_max, f'p_vlaue: {round(p_value, 2)}', color=\"blue\", fontsize=10)\n",
    "        plt.title(f'bern_z_test | Probability density function (Z-test, alpha: {alpha})')\n",
    "        plt.xlabel('$x$')\n",
    "        plt.ylabel('$pdf(x)$')\n",
    "        plt.legend(loc='upper left')\n",
    "        plt.show()    \n",
    "        \n",
    "    accept = False # флаг, принимаем ли мы нулевую гипотезу в итоге\n",
    "        \n",
    "    if orientation == 'left':\n",
    "        if z >= z_alpha:\n",
    "            accept = True\n",
    "        \n",
    "    elif orientation == 'right':\n",
    "        if z <= z_alpha:\n",
    "            accept = True\n",
    "            \n",
    "    else:\n",
    "        if left <= z <= right:\n",
    "            accept = True\n",
    "            \n",
    "    if plot:\n",
    "        if accept:\n",
    "            print(f'Принимаем нулевую гипотезу о равенстве средних. p_value = {p_value}')\n",
    "        else:\n",
    "            print(f'Отвергаем нулевую гипотезу о равенстве средних. p_value = {p_value}')\n",
    "        \n",
    "    return accept"
   ]
  },
  {
   "cell_type": "code",
   "execution_count": 2,
   "id": "fc6125b4",
   "metadata": {},
   "outputs": [],
   "source": [
    "def observations_count(p, mde, orientation):\n",
    "    \"\"\"\n",
    "    Функция для подсчета размера выборки для проведения A/B теста для распределения Бернулли\n",
    "    в зависимости от текущего параметра среднего распределения и желаемого MDE\n",
    "    \"\"\"\n",
    "    alphas = [0.001, 0.01, 0.02, 0.05, 0.1, 0.2]\n",
    "    betas = [0.001, 0.01, 0.02, 0.05, 0.1, 0.2]\n",
    "\n",
    "    observations = [ ]\n",
    "    for alpha in alphas:\n",
    "        observations_cur = [ ]\n",
    "        for beta in betas:\n",
    "            o = sum(get_n(p, mde, alpha, beta, orientation, plot=False))\n",
    "            observations_cur.append(o)\n",
    "        observations.append(observations_cur)\n",
    "\n",
    "    df_e = pd.DataFrame(observations)\n",
    "    df_e.columns = alphas\n",
    "    df_e.index= betas\n",
    "    return df_e"
   ]
  },
  {
   "cell_type": "code",
   "execution_count": 5,
   "id": "a4e3f88f",
   "metadata": {},
   "outputs": [
    {
     "data": {
      "text/html": [
       "<div>\n",
       "<style scoped>\n",
       "    .dataframe tbody tr th:only-of-type {\n",
       "        vertical-align: middle;\n",
       "    }\n",
       "\n",
       "    .dataframe tbody tr th {\n",
       "        vertical-align: top;\n",
       "    }\n",
       "\n",
       "    .dataframe thead th {\n",
       "        text-align: right;\n",
       "    }\n",
       "</style>\n",
       "<table border=\"1\" class=\"dataframe\">\n",
       "  <thead>\n",
       "    <tr style=\"text-align: right;\">\n",
       "      <th></th>\n",
       "      <th>0.001</th>\n",
       "      <th>0.010</th>\n",
       "      <th>0.020</th>\n",
       "      <th>0.050</th>\n",
       "      <th>0.100</th>\n",
       "      <th>0.200</th>\n",
       "    </tr>\n",
       "  </thead>\n",
       "  <tbody>\n",
       "    <tr>\n",
       "      <th>0.001</th>\n",
       "      <td>10602</td>\n",
       "      <td>8144</td>\n",
       "      <td>7344</td>\n",
       "      <td>6223</td>\n",
       "      <td>5305</td>\n",
       "      <td>4291</td>\n",
       "    </tr>\n",
       "    <tr>\n",
       "      <th>0.010</th>\n",
       "      <td>8144</td>\n",
       "      <td>6009</td>\n",
       "      <td>5325</td>\n",
       "      <td>4377</td>\n",
       "      <td>3613</td>\n",
       "      <td>2786</td>\n",
       "    </tr>\n",
       "    <tr>\n",
       "      <th>0.020</th>\n",
       "      <td>7344</td>\n",
       "      <td>5325</td>\n",
       "      <td>4683</td>\n",
       "      <td>3797</td>\n",
       "      <td>3088</td>\n",
       "      <td>2327</td>\n",
       "    </tr>\n",
       "    <tr>\n",
       "      <th>0.050</th>\n",
       "      <td>6223</td>\n",
       "      <td>4377</td>\n",
       "      <td>3797</td>\n",
       "      <td>3004</td>\n",
       "      <td>2377</td>\n",
       "      <td>1716</td>\n",
       "    </tr>\n",
       "    <tr>\n",
       "      <th>0.100</th>\n",
       "      <td>5305</td>\n",
       "      <td>3613</td>\n",
       "      <td>3088</td>\n",
       "      <td>2377</td>\n",
       "      <td>1823</td>\n",
       "      <td>1251</td>\n",
       "    </tr>\n",
       "    <tr>\n",
       "      <th>0.200</th>\n",
       "      <td>4291</td>\n",
       "      <td>2786</td>\n",
       "      <td>2327</td>\n",
       "      <td>1716</td>\n",
       "      <td>1251</td>\n",
       "      <td>786</td>\n",
       "    </tr>\n",
       "  </tbody>\n",
       "</table>\n",
       "</div>"
      ],
      "text/plain": [
       "       0.001  0.010  0.020  0.050  0.100  0.200\n",
       "0.001  10602   8144   7344   6223   5305   4291\n",
       "0.010   8144   6009   5325   4377   3613   2786\n",
       "0.020   7344   5325   4683   3797   3088   2327\n",
       "0.050   6223   4377   3797   3004   2377   1716\n",
       "0.100   5305   3613   3088   2377   1823   1251\n",
       "0.200   4291   2786   2327   1716   1251    786"
      ]
     },
     "execution_count": 5,
     "metadata": {},
     "output_type": "execute_result"
    }
   ],
   "source": [
    "observations_count(0.2, 0.05, 'right')"
   ]
  },
  {
   "cell_type": "markdown",
   "id": "721e9a25",
   "metadata": {},
   "source": [
    "__Пайплайн__:\n",
    "- приходит менеджер и говорит что нужне АБ\n",
    "- уточняем про направление A/B (двухсторонее, левосторонее или правосторонее)\n",
    "- уточняем параметр MDE \n",
    "- говорим про то, что нужно подумать над тем, какие ошибки alpha и beta мы можем себе позволить\n",
    "- оцениваем текущую статистику\n",
    "- скидываем таблицу с размерами выборки для эксперемента\n",
    "- получаем параметры alpha и beta\n",
    "- запускаем A/B\n",
    "- считаем результаты"
   ]
  },
  {
   "cell_type": "code",
   "execution_count": 6,
   "id": "0dc938a4",
   "metadata": {},
   "outputs": [
    {
     "data": {
      "text/html": [
       "<div>\n",
       "<style scoped>\n",
       "    .dataframe tbody tr th:only-of-type {\n",
       "        vertical-align: middle;\n",
       "    }\n",
       "\n",
       "    .dataframe tbody tr th {\n",
       "        vertical-align: top;\n",
       "    }\n",
       "\n",
       "    .dataframe thead th {\n",
       "        text-align: right;\n",
       "    }\n",
       "</style>\n",
       "<table border=\"1\" class=\"dataframe\">\n",
       "  <thead>\n",
       "    <tr style=\"text-align: right;\">\n",
       "      <th></th>\n",
       "      <th>0.001</th>\n",
       "      <th>0.010</th>\n",
       "      <th>0.020</th>\n",
       "      <th>0.050</th>\n",
       "      <th>0.100</th>\n",
       "      <th>0.200</th>\n",
       "    </tr>\n",
       "  </thead>\n",
       "  <tbody>\n",
       "    <tr>\n",
       "      <th>0.001</th>\n",
       "      <td>1586557</td>\n",
       "      <td>1218607</td>\n",
       "      <td>1099037</td>\n",
       "      <td>931256</td>\n",
       "      <td>793836</td>\n",
       "      <td>642108</td>\n",
       "    </tr>\n",
       "    <tr>\n",
       "      <th>0.010</th>\n",
       "      <td>1218607</td>\n",
       "      <td>899131</td>\n",
       "      <td>796858</td>\n",
       "      <td>655024</td>\n",
       "      <td>540658</td>\n",
       "      <td>416846</td>\n",
       "    </tr>\n",
       "    <tr>\n",
       "      <th>0.020</th>\n",
       "      <td>1099037</td>\n",
       "      <td>796858</td>\n",
       "      <td>700758</td>\n",
       "      <td>568184</td>\n",
       "      <td>462044</td>\n",
       "      <td>348194</td>\n",
       "    </tr>\n",
       "    <tr>\n",
       "      <th>0.050</th>\n",
       "      <td>931256</td>\n",
       "      <td>655024</td>\n",
       "      <td>568184</td>\n",
       "      <td>449498</td>\n",
       "      <td>355699</td>\n",
       "      <td>256792</td>\n",
       "    </tr>\n",
       "    <tr>\n",
       "      <th>0.100</th>\n",
       "      <td>793836</td>\n",
       "      <td>540658</td>\n",
       "      <td>462044</td>\n",
       "      <td>355699</td>\n",
       "      <td>272864</td>\n",
       "      <td>187234</td>\n",
       "    </tr>\n",
       "    <tr>\n",
       "      <th>0.200</th>\n",
       "      <td>642108</td>\n",
       "      <td>416846</td>\n",
       "      <td>348194</td>\n",
       "      <td>256792</td>\n",
       "      <td>187234</td>\n",
       "      <td>117681</td>\n",
       "    </tr>\n",
       "  </tbody>\n",
       "</table>\n",
       "</div>"
      ],
      "text/plain": [
       "         0.001    0.010    0.020   0.050   0.100   0.200\n",
       "0.001  1586557  1218607  1099037  931256  793836  642108\n",
       "0.010  1218607   899131   796858  655024  540658  416846\n",
       "0.020  1099037   796858   700758  568184  462044  348194\n",
       "0.050   931256   655024   568184  449498  355699  256792\n",
       "0.100   793836   540658   462044  355699  272864  187234\n",
       "0.200   642108   416846   348194  256792  187234  117681"
      ]
     },
     "metadata": {},
     "output_type": "display_data"
    },
    {
     "data": {
      "image/png": "[encoded data removed]",
      "text/plain": [
       "<Figure size 720x360 with 1 Axes>"
      ]
     },
     "metadata": {
      "needs_background": "light"
     },
     "output_type": "display_data"
    },
    {
     "data": {
      "image/png": "[encoded data removed]",
      "text/plain": [
       "<Figure size 720x360 with 1 Axes>"
      ]
     },
     "metadata": {
      "needs_background": "light"
     },
     "output_type": "display_data"
    },
    {
     "name": "stdout",
     "output_type": "stream",
     "text": [
      "Принимаем нулевую гипотезу о равенстве средних. p_value = 0.512564470803984\n"
     ]
    },
    {
     "data": {
      "text/plain": [
       "True"
      ]
     },
     "execution_count": 6,
     "metadata": {},
     "output_type": "execute_result"
    }
   ],
   "source": [
    "# настройка графиков\n",
    "plot = True\n",
    "\n",
    "# выбор направления\n",
    "orientation = 'right'\n",
    "\n",
    "# уточняем параметр MDE\n",
    "mde = 0.001\n",
    "\n",
    "# оцениваем текущую статистику\n",
    "p = 0.01\n",
    "\n",
    "# скидываем таблицу с размерами выборки для экперимента\n",
    "display(observations_count(p, mde, orientation))\n",
    "\n",
    "# получаем alpha и beta\n",
    "alpha, beta = 0.05, 0.1\n",
    "\n",
    "# считаем размеры выборок\n",
    "n_c, n_t = get_n(p, mde, alpha, beta, orientation, plot=plot)\n",
    "\n",
    "# запускаем A/B\n",
    "p_t = 0.01 # пример среденего для treatment выборки, полученной в результате A/B\n",
    "c = np.random.binomial(1, p, n_c)\n",
    "t = np.random.binomial(1, p_t, n_t)\n",
    "\n",
    "# счтитем результаты\n",
    "bern_z_test(c, t, alpha, orientation, plot)"
   ]
  },
  {
   "cell_type": "markdown",
   "id": "41dbd5bb",
   "metadata": {},
   "source": [
    "#  Тесты"
   ]
  },
  {
   "cell_type": "code",
   "execution_count": 7,
   "id": "57ea0dc1",
   "metadata": {},
   "outputs": [],
   "source": [
    "# # тестирование\n",
    "# p = 0.01\n",
    "# mde = 0.001\n",
    "# alpha = 0.001\n",
    "# beta = 0.001\n",
    "\n",
    "# ans = [ ]\n",
    "# for _ in tqdm(range(100)):\n",
    "#     a, b = generating_bern_data(p, mde, alpha, beta, plot=False)\n",
    "#     reject = bern_z_test(a, b, alpha, plot=False)\n",
    "#     ans.append(reject)\n",
    "    \n",
    "# print(f'''Несмотря на то, что данные были сгенерированы из разных выборок,\n",
    "# мы совершаем ошибку 2го рода принимая гипотезу о равенстве средних в {round(sum(ans) / len(ans) * 100, 2)}% случаях.\n",
    "# Эта доля примерно равняется нашему параметру beta, равному {beta}''')"
   ]
  },
  {
   "cell_type": "code",
   "execution_count": 19,
   "id": "83f6f93b",
   "metadata": {},
   "outputs": [
    {
     "data": {
      "application/vnd.jupyter.widget-view+json": {
       "model_id": "0ccb35821a9445d0960d912156b2831e",
       "version_major": 2,
       "version_minor": 0
      },
      "text/plain": [
       "  0%|          | 0/2000 [00:00<?, ?it/s]"
      ]
     },
     "metadata": {},
     "output_type": "display_data"
    },
    {
     "name": "stdout",
     "output_type": "stream",
     "text": [
      "left | 0.01 | 0.9905\n"
     ]
    },
    {
     "data": {
      "application/vnd.jupyter.widget-view+json": {
       "model_id": "3c35a74043314979a1b974d711701c19",
       "version_major": 2,
       "version_minor": 0
      },
      "text/plain": [
       "  0%|          | 0/2000 [00:00<?, ?it/s]"
      ]
     },
     "metadata": {},
     "output_type": "display_data"
    },
    {
     "name": "stdout",
     "output_type": "stream",
     "text": [
      "right | 0.01 | 0.9885\n"
     ]
    },
    {
     "data": {
      "application/vnd.jupyter.widget-view+json": {
       "model_id": "f3d4d56ddd334c4798d2c85f3cadf614",
       "version_major": 2,
       "version_minor": 0
      },
      "text/plain": [
       "  0%|          | 0/2000 [00:00<?, ?it/s]"
      ]
     },
     "metadata": {},
     "output_type": "display_data"
    },
    {
     "name": "stdout",
     "output_type": "stream",
     "text": [
      "twosided | 0.01 | 0.9935\n"
     ]
    }
   ],
   "source": [
    "# тест параметра alpha\n",
    "\n",
    "plot = False\n",
    "mde = 0.001\n",
    "p = p_t = 0.086\n",
    "alpha, beta = 0.01, 0.1\n",
    "\n",
    "for orientation in ['left', 'right', 'twosided']:\n",
    "    test_result = [ ]\n",
    "    \n",
    "    n_c, n_t = get_n(p, mde, alpha, beta, orientation, plot=plot)\n",
    "    \n",
    "    for _ in tqdm(range(2000)):\n",
    "        c = np.random.binomial(1, p, n_c)\n",
    "        t = np.random.binomial(1, p_t, n_t)\n",
    "        ans = bern_z_test(c, t, alpha, orientation, plot)\n",
    "        test_result.append(ans)\n",
    "\n",
    "    print(f'{orientation} | {alpha} | {sum(test_result) / len(test_result)}') "
   ]
  },
  {
   "cell_type": "code",
   "execution_count": 17,
   "id": "be7d7c89",
   "metadata": {},
   "outputs": [
    {
     "data": {
      "application/vnd.jupyter.widget-view+json": {
       "model_id": "a24b03db2b3346e0924ab53c0a59c982",
       "version_major": 2,
       "version_minor": 0
      },
      "text/plain": [
       "  0%|          | 0/2000 [00:00<?, ?it/s]"
      ]
     },
     "metadata": {},
     "output_type": "display_data"
    },
    {
     "name": "stdout",
     "output_type": "stream",
     "text": [
      "left | 0.1 | 0.2 | 0.198\n"
     ]
    },
    {
     "data": {
      "application/vnd.jupyter.widget-view+json": {
       "model_id": "9dd10815e4224c85b03c15fb118fafa9",
       "version_major": 2,
       "version_minor": 0
      },
      "text/plain": [
       "  0%|          | 0/2000 [00:00<?, ?it/s]"
      ]
     },
     "metadata": {},
     "output_type": "display_data"
    },
    {
     "name": "stdout",
     "output_type": "stream",
     "text": [
      "right | 0.1 | 0.2 | 0.201\n"
     ]
    }
   ],
   "source": [
    "# тест параметра beta\n",
    "\n",
    "# нам неинтересно смотреть результат beta для 2х сторонней проверки, т.к. тут отсутсвует предположение об mde\n",
    "# другими словами, это только проверка гипотезы на равенство средних\n",
    "\n",
    "plot = False\n",
    "\n",
    "MDE = 0.001\n",
    "p = 0.01\n",
    "\n",
    "alpha, beta = 0.1, 0.2\n",
    "\n",
    "for orientation in ['left', 'right']:\n",
    "    test_result = [ ]\n",
    "    \n",
    "    if orientation == 'left':\n",
    "        mde = -MDE\n",
    "    else:\n",
    "        mde = MDE\n",
    "\n",
    "    p_t = p + mde\n",
    "    \n",
    "    n_c, n_t = get_n(p, mde, alpha, beta, orientation, plot=plot)\n",
    "    \n",
    "    for _ in tqdm(range(2000)):\n",
    "        c = np.random.binomial(1, p, n_c)\n",
    "        t = np.random.binomial(1, p_t, n_t)\n",
    "        ans = bern_z_test(c, t, alpha, orientation, plot)\n",
    "        test_result.append(ans)\n",
    "\n",
    "    print(f'{orientation} | {alpha} | {beta} | {sum(test_result) / len(test_result)}') "
   ]
  }
 ],
 "metadata": {
  "kernelspec": {
   "display_name": "Python 3 (ipykernel)",
   "language": "python",
   "name": "python3"
  },
  "language_info": {
   "codemirror_mode": {
    "name": "ipython",
    "version": 3
   },
   "file_extension": ".py",
   "mimetype": "text/x-python",
   "name": "python",
   "nbconvert_exporter": "python",
   "pygments_lexer": "ipython3",
   "version": "3.9.12"
  }
 },
 "nbformat": 4,
 "nbformat_minor": 5
}
